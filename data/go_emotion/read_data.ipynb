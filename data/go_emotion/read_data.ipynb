{
 "cells": [
  {
   "cell_type": "code",
   "execution_count": 48,
   "id": "7535ea93",
   "metadata": {},
   "outputs": [],
   "source": [
    "import re\n",
    "import pandas as pd"
   ]
  },
  {
   "cell_type": "code",
   "execution_count": 67,
   "id": "b630f7b1",
   "metadata": {},
   "outputs": [
    {
     "name": "stderr",
     "output_type": "stream",
     "text": [
      "Using custom data configuration default\n",
      "Reusing dataset empathetic_dialogues (/home/dinobby/.cache/huggingface/datasets/empathetic_dialogues/default/0.1.0/0586bba21c876733a0395ea29b5c37898aa52bc3aff217f072f601826cfe37ae)\n",
      "Using custom data configuration default\n",
      "Reusing dataset empathetic_dialogues (/home/dinobby/.cache/huggingface/datasets/empathetic_dialogues/default/0.1.0/0586bba21c876733a0395ea29b5c37898aa52bc3aff217f072f601826cfe37ae)\n",
      "Using custom data configuration default\n",
      "Reusing dataset empathetic_dialogues (/home/dinobby/.cache/huggingface/datasets/empathetic_dialogues/default/0.1.0/0586bba21c876733a0395ea29b5c37898aa52bc3aff217f072f601826cfe37ae)\n"
     ]
    }
   ],
   "source": [
    "from datasets import load_dataset\n",
    "label2idx = {'sad': 0, 'trusting': 1, 'terrified': 2, 'caring': 3, 'disappointed': 4,\n",
    "         'faithful': 5, 'joyful': 6, 'jealous': 7, 'disgusted': 8, 'surprised': 9,\n",
    "         'ashamed': 10, 'afraid': 11, 'impressed': 12, 'sentimental': 13, \n",
    "         'devastated': 14, 'excited': 15, 'anticipating': 16, 'annoyed': 17, 'anxious': 18,\n",
    "         'furious': 19, 'content': 20, 'lonely': 21, 'angry': 22, 'confident': 23,\n",
    "         'apprehensive': 24, 'guilty': 25, 'embarrassed': 26, 'grateful': 27,\n",
    "         'hopeful': 28, 'proud': 29, 'prepared': 30, 'nostalgic': 31}\n",
    "\n",
    "idx2label = {v: k for k, v in label2idx.items()}\n",
    "\n",
    "train_text, train_label = (load_dataset('empathetic_dialogues', split='train'), label2idx)\n",
    "valid_text, valid_label = (load_dataset('empathetic_dialogues', split='validation'), label2idx)\n",
    "test_text, test_label = (load_dataset('empathetic_dialogues', split='test'), label2idx)"
   ]
  },
  {
   "cell_type": "code",
   "execution_count": 79,
   "id": "53240a52",
   "metadata": {},
   "outputs": [],
   "source": [
    "ok, cool = [], []\n",
    "for i in test_text:\n",
    "    if i['utterance_idx'] == 1:\n",
    "        ok.append(i['prompt'])\n",
    "        cool.append(i)"
   ]
  },
  {
   "cell_type": "code",
   "execution_count": 87,
   "id": "202dea88",
   "metadata": {
    "scrolled": true
   },
   "outputs": [
    {
     "data": {
      "text/plain": [
       "'she got with him for money'"
      ]
     },
     "execution_count": 87,
     "metadata": {},
     "output_type": "execute_result"
    }
   ],
   "source": [
    "ok[438]"
   ]
  },
  {
   "cell_type": "code",
   "execution_count": 93,
   "id": "4ac183b6",
   "metadata": {},
   "outputs": [
    {
     "data": {
      "text/plain": [
       "{'conv_id': 'hit:2630_conv:5261',\n",
       " 'utterance_idx': 1,\n",
       " 'context': 'excited',\n",
       " 'prompt': 'going to get a new car soon',\n",
       " 'speaker_idx': 188,\n",
       " 'utterance': \"I can't wait to get a new car soon\",\n",
       " 'selfeval': '5|5|5_3|4|5',\n",
       " 'tags': ''}"
      ]
     },
     "execution_count": 93,
     "metadata": {},
     "output_type": "execute_result"
    }
   ],
   "source": [
    "cool[452]"
   ]
  },
  {
   "cell_type": "code",
   "execution_count": 43,
   "id": "987b5738",
   "metadata": {},
   "outputs": [],
   "source": [
    "df = pd.read_csv('train.csv')"
   ]
  },
  {
   "cell_type": "code",
   "execution_count": 44,
   "id": "e3379d0a",
   "metadata": {
    "scrolled": true
   },
   "outputs": [
    {
     "data": {
      "text/html": [
       "<div>\n",
       "<style scoped>\n",
       "    .dataframe tbody tr th:only-of-type {\n",
       "        vertical-align: middle;\n",
       "    }\n",
       "\n",
       "    .dataframe tbody tr th {\n",
       "        vertical-align: top;\n",
       "    }\n",
       "\n",
       "    .dataframe thead th {\n",
       "        text-align: right;\n",
       "    }\n",
       "</style>\n",
       "<table border=\"1\" class=\"dataframe\">\n",
       "  <thead>\n",
       "    <tr style=\"text-align: right;\">\n",
       "      <th></th>\n",
       "      <th>text</th>\n",
       "      <th>aug_text</th>\n",
       "      <th>label</th>\n",
       "    </tr>\n",
       "  </thead>\n",
       "  <tbody>\n",
       "    <tr>\n",
       "      <th>0</th>\n",
       "      <td>WHY THE FUCK IS BAYLESS ISOING</td>\n",
       "      <td>Why the fuck is it a business sign?</td>\n",
       "      <td>2</td>\n",
       "    </tr>\n",
       "    <tr>\n",
       "      <th>1</th>\n",
       "      <td>To make her feel threatened</td>\n",
       "      <td>Makes her feel threatened.</td>\n",
       "      <td>14</td>\n",
       "    </tr>\n",
       "    <tr>\n",
       "      <th>2</th>\n",
       "      <td>Dirty Southern Wankers</td>\n",
       "      <td>Filthy southern scoundrel.</td>\n",
       "      <td>3</td>\n",
       "    </tr>\n",
       "    <tr>\n",
       "      <th>3</th>\n",
       "      <td>OmG pEyToN iSn'T gOoD eNoUgH tO hElP uS iN tHe...</td>\n",
       "      <td>Omg PEYNON iSn't gED eNougH tO hEP US iN thyoffs!</td>\n",
       "      <td>26</td>\n",
       "    </tr>\n",
       "    <tr>\n",
       "      <th>4</th>\n",
       "      <td>Yes I heard abt the f bombs! That has to be wh...</td>\n",
       "      <td>Yes, I heard the explosion of the F bomb. That...</td>\n",
       "      <td>15</td>\n",
       "    </tr>\n",
       "  </tbody>\n",
       "</table>\n",
       "</div>"
      ],
      "text/plain": [
       "                                                text  \\\n",
       "0                     WHY THE FUCK IS BAYLESS ISOING   \n",
       "1                        To make her feel threatened   \n",
       "2                             Dirty Southern Wankers   \n",
       "3  OmG pEyToN iSn'T gOoD eNoUgH tO hElP uS iN tHe...   \n",
       "4  Yes I heard abt the f bombs! That has to be wh...   \n",
       "\n",
       "                                            aug_text  label  \n",
       "0                Why the fuck is it a business sign?      2  \n",
       "1                         Makes her feel threatened.     14  \n",
       "2                         Filthy southern scoundrel.      3  \n",
       "3  Omg PEYNON iSn't gED eNougH tO hEP US iN thyoffs!     26  \n",
       "4  Yes, I heard the explosion of the F bomb. That...     15  "
      ]
     },
     "execution_count": 44,
     "metadata": {},
     "output_type": "execute_result"
    }
   ],
   "source": [
    "df.head()"
   ]
  },
  {
   "cell_type": "code",
   "execution_count": 47,
   "id": "f3a2e3af",
   "metadata": {},
   "outputs": [
    {
     "data": {
      "text/plain": [
       "\"omg peyton isn't good enough to help us in the playoffs! dumbass broncos fans circa december 2015.\""
      ]
     },
     "execution_count": 47,
     "metadata": {},
     "output_type": "execute_result"
    }
   ],
   "source": [
    "df.text[3].lower()"
   ]
  },
  {
   "cell_type": "code",
   "execution_count": 41,
   "id": "fd5c11fd",
   "metadata": {
    "scrolled": true
   },
   "outputs": [
    {
     "data": {
      "text/plain": [
       "array(['I have a bad feeling I’m gonna regret not tuning into this',\n",
       "       \"Damnit Morty! D'you see wha-rrrgh-t you've done!? We're fucked Morty, the squirrels - they're recruiting dolphins now Morty. \",\n",
       "       'Does that work for the WSJ? I haven’t read an article from there in a year.',\n",
       "       'Fuck you.',\n",
       "       '$15 a month for a music service is more than Netflix. Thank u, next!',\n",
       "       \"Well what would make us special? He's vouching for his friend.\",\n",
       "       'Wow what a disappointing game. Wish we would have showed up',\n",
       "       'That’s normal for girls, lol.',\n",
       "       \"Wife just had our baby, and this story freaked me out. I can't imagine going through something like that.\",\n",
       "       'Proud of you.',\n",
       "       'No, what’s sad is saying the same message like it’s news. He’s a copy paste machine. No original thought.',\n",
       "       \"Yeah, even though I give it to him that it was confusing that they designed Crysis 1 for PCs that wouldn't come out for like 5 years.\",\n",
       "       \"I didn't know that, thanks for the clarification.\",\n",
       "       \"That's a weird way of spelling Disenchanted\",\n",
       "       'Hey! Your mom sucks.',\n",
       "       'Yea, very rude. Avoid anything with a strong smell like fish and popcorn, curry is just as strong. ',\n",
       "       'I got a lot of withholding to throw me into anxiety.',\n",
       "       \"Nah, he's much smarter than I am about soccer.\",\n",
       "       'My friend and I have been having good fun queuing Mei/Winston, trololo, and 2 bottles of whisky.',\n",
       "       'Praying for me family.'], dtype=object)"
      ]
     },
     "execution_count": 41,
     "metadata": {},
     "output_type": "execute_result"
    }
   ],
   "source": [
    "df.text[80:100].values"
   ]
  },
  {
   "cell_type": "code",
   "execution_count": 45,
   "id": "832461b5",
   "metadata": {},
   "outputs": [
    {
     "data": {
      "text/plain": [
       "865"
      ]
     },
     "execution_count": 45,
     "metadata": {},
     "output_type": "execute_result"
    }
   ],
   "source": [
    "cnt = 0\n",
    "for i in df.text:\n",
    "    if 'lol' in i.lower():\n",
    "        cnt += 1\n",
    "cnt"
   ]
  },
  {
   "cell_type": "code",
   "execution_count": 37,
   "id": "5d7c265b",
   "metadata": {
    "scrolled": true
   },
   "outputs": [
    {
     "name": "stdout",
     "output_type": "stream",
     "text": [
      "I’m so sorry 🤪\n",
      "Welcome to the freedom and democracy circus that is 'mercuh! 👍\n",
      "This was so touching ❤️❤️❤️\n",
      "Oh ok that makes sense then! Thanks for taking the time to explain. 😊\n",
      "U guys are like match made in heaven ♥️♥️♥️\n",
      "I get wound up over completely imagined conversations too 😅 I'm trying to meditate and learn to stop myself from going down the rabbit hole.\n",
      "Excellent collage, I learned so much from all these guys. The community is great, the unconfiscatable conference was awesome 🙏🏽🙏🏽\n",
      "Thanks man 🙏🏽\n",
      "This is too accurate 😂\n",
      "Thanks for giving advice to the people who need it 👌🙏\n",
      "Reading this made me happy and I don't even know you. Keep doing your thing!🙌🏼\n",
      "Thank you! Very cool!! 😎\n",
      "That’s exactly how mine is ! Wow that’s sort of funny there is an actual name For it 😳😔\n",
      "Haha I was thinking Utah but... Florida makes sense too. There’s a few crazy states 🤷🏼‍♀️\n",
      "Can't relate because the sadness and loneliness is constant 😎\n",
      "Omg I just looked it up and all the places look so beautiful there 😍 also I’m sorry that it’s homophobic\n",
      "No idea but as of last year there was a cat that liked to hang out there. Hope he’s okay ❤️\n",
      "Yes I keep hearing it’s a great and eye opening read so it on my to read list. thanks 👍\n",
      "What a beautiful memory for you to have found. So sorry for your loss ❤️\n",
      "Dam 😣 that was awesome!\n",
      "Got me spitted coffee all over my phone🤣\n",
      "Can’t wait for the saas drama!!! 😂😂\n",
      "I wish I had known this when my kitty ran off years ago. 😭\n",
      "I love how many penguins stopped and waited for him 😍\n",
      "😂 i need one too i’m on break and honestly my life revolves around reddit at this point, cake day is special enjoy it! \n",
      "You missed the point 🙃\n",
      "This happens to me all the time I’m so sorry 😣 it’s always with burgers, too. So painful. \n",
      "Lol maybe he is not but I think my point still stands 😄\n",
      "Hell yeah, i agree ☺\n",
      "👍 excellent! I was wondering if anyone else knew this little known nugget from history.\n",
      "Thank you! 💓❤\n",
      "I personally wish that they stuck with the spin offs but if their happy I’m good.👌\n",
      "Pets are the best ❤\n",
      "Fight milk 🥛 lol\n",
      "Lol ok 👌🏾\n",
      "You’re a liar. 😂\n",
      "Thank you so much. That means a lot. ❤\n",
      "RIGHT?! My mom would literally never forgive the bitch 😂\n",
      "Aww!! Thank you! I had fun making it, I also ADORE [NAME] 😍\n",
      "Yeah you better hope. I just switched to combat pro from standard and I gotta say my builds are 🗿\n",
      "Damned asshole trouble maker!! Someone has mummy issues. 👀\n",
      "that’s awful🤣🤣\n",
      "The first sentence alone sums it all up 😂\n",
      "Thank you. ❤️ I really appreciate your comment\n",
      "That sounds awesome! So good to have someone able to teach you their skills 😊\n",
      "Thank you, man🌱\n",
      "They don’t have that on iOS unfortunately 😭 but thank you for the suggestion!\n",
      "Welcome to switzerland 😂 I see it everyday, when I'm on my way to work. \n",
      "*sigh* just take it ⬆️\n",
      "Thank you 😊\n",
      "Itll happen. Im 36 and i think i finally found the one last year 🤞\n",
      "Almost in tears watching him celebrate, true captain ❤️\n",
      "That was my first thought too 😂\n",
      "Yes, and I looooooove it 😂😂\n",
      "I can't tell if this is a happy or sad ending. 😐\n"
     ]
    }
   ],
   "source": [
    "from emoji import UNICODE_EMOJI\n",
    "\n",
    "def extract_emojis(s):\n",
    "  return ''.join(c for c in s if c in UNICODE_EMOJI['en'])\n",
    "a = extract_emojis('sorry [NAME]! 😘😘😘')\n",
    "len(a)\n",
    "\n",
    "cnt = 0\n",
    "for i in df.text:\n",
    "    if len(extract_emojis(i)) > 0: \n",
    "        cnt += 1\n",
    "        print(i)"
   ]
  },
  {
   "cell_type": "code",
   "execution_count": 38,
   "id": "07bbf569",
   "metadata": {},
   "outputs": [
    {
     "name": "stdout",
     "output_type": "stream",
     "text": [
      "55\n",
      "2984\n"
     ]
    }
   ],
   "source": [
    "print(cnt)\n",
    "print(len(df))"
   ]
  },
  {
   "cell_type": "code",
   "execution_count": 17,
   "id": "ac4ee166",
   "metadata": {},
   "outputs": [],
   "source": [
    "id1, id2, w = ['semi-positive'], ['root'], [1]"
   ]
  },
  {
   "cell_type": "code",
   "execution_count": 18,
   "id": "34e3b6f8",
   "metadata": {},
   "outputs": [],
   "source": [
    "l1 = df['semi-positive'].tolist()"
   ]
  },
  {
   "cell_type": "code",
   "execution_count": 19,
   "id": "36934612",
   "metadata": {},
   "outputs": [],
   "source": [
    "l2 = df['root'].tolist()"
   ]
  },
  {
   "cell_type": "code",
   "execution_count": 20,
   "id": "93d07288",
   "metadata": {},
   "outputs": [],
   "source": [
    "for i in range(len(l1)):\n",
    "    id1.append(l1[i])\n",
    "    id2.append(l2[i])\n",
    "    w.append(1)"
   ]
  },
  {
   "cell_type": "code",
   "execution_count": 21,
   "id": "3978755b",
   "metadata": {},
   "outputs": [],
   "source": [
    "new_data = {'id1':id1, 'id2':id2, 'weight':w}"
   ]
  },
  {
   "cell_type": "code",
   "execution_count": 22,
   "id": "bbdf2726",
   "metadata": {},
   "outputs": [],
   "source": [
    "new_df = pd.DataFrame(new_data)\n",
    "new_df.to_csv('./label_tree_fb.csv',index=False)"
   ]
  },
  {
   "cell_type": "code",
   "execution_count": 23,
   "id": "f2eaf4ad",
   "metadata": {},
   "outputs": [
    {
     "data": {
      "text/plain": [
       "35"
      ]
     },
     "execution_count": 23,
     "metadata": {},
     "output_type": "execute_result"
    }
   ],
   "source": [
    "all_labels = list(set(l1 + l2))\n",
    "len(all_labels)"
   ]
  },
  {
   "cell_type": "code",
   "execution_count": null,
   "id": "61c6c0c0",
   "metadata": {},
   "outputs": [],
   "source": []
  }
 ],
 "metadata": {
  "kernelspec": {
   "display_name": "Python 3",
   "language": "python",
   "name": "python3"
  },
  "language_info": {
   "codemirror_mode": {
    "name": "ipython",
    "version": 3
   },
   "file_extension": ".py",
   "mimetype": "text/x-python",
   "name": "python",
   "nbconvert_exporter": "python",
   "pygments_lexer": "ipython3",
   "version": "3.6.9"
  }
 },
 "nbformat": 4,
 "nbformat_minor": 5
}
